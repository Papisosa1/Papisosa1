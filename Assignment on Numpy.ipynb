{
 "cells": [
  {
   "cell_type": "markdown",
   "id": "2486fcb4-c0c2-4a79-be54-bdf157dc5e74",
   "metadata": {},
   "source": [
    "NumPy is a powerful Python library for numerical computing. It provides support for large, multi-dimensional arrays and matrices, \n",
    "along with a collection of mathematical functions to operate on these arrays efficiently."
   ]
  },
  {
   "cell_type": "code",
   "execution_count": 4,
   "id": "d6c40734-29cc-4f0d-9c12-568392f914d4",
   "metadata": {},
   "outputs": [],
   "source": [
    "import numpy as np\n"
   ]
  },
  {
   "cell_type": "markdown",
   "id": "e0c6c4e4-0a14-4749-96f6-e5dd8bda3868",
   "metadata": {},
   "source": [
    "NumPy arrays are optimized for numerical computing and offer several advantages over Python lists, including performance, memory efficiency, and support for array-oriented operations. "
   ]
  },
  {
   "cell_type": "code",
   "execution_count": 5,
   "id": "942cb367-01de-4ed5-b6a2-eb4207009ecc",
   "metadata": {},
   "outputs": [
    {
     "data": {
      "text/plain": [
       "array([1, 2, 3, 4, 5])"
      ]
     },
     "execution_count": 5,
     "metadata": {},
     "output_type": "execute_result"
    }
   ],
   "source": [
    "A = np.array([1, 2, 3, 4, 5])\n",
    "\n",
    "A\n"
   ]
  },
  {
   "cell_type": "code",
   "execution_count": 6,
   "id": "835a981e-94e9-40c7-b210-50be63dea043",
   "metadata": {},
   "outputs": [
    {
     "data": {
      "text/plain": [
       "array([ 2,  4,  6,  8, 10])"
      ]
     },
     "execution_count": 6,
     "metadata": {},
     "output_type": "execute_result"
    }
   ],
   "source": [
    "B = np.array([2,4,6,8,10])\n",
    "\n",
    "B"
   ]
  },
  {
   "cell_type": "code",
   "execution_count": 7,
   "id": "c490e2e1-b3a8-4911-8753-87d099b7815c",
   "metadata": {},
   "outputs": [
    {
     "name": "stdout",
     "output_type": "stream",
     "text": [
      "[ 3  6  9 12 15]\n",
      "[-1 -2 -3 -4 -5]\n",
      "[0.5 0.5 0.5 0.5 0.5]\n",
      "[ 2  8 18 32 50]\n"
     ]
    }
   ],
   "source": [
    "ADD= A+B\n",
    "print(ADD)\n",
    "\n",
    "SUBTRACT=A-B\n",
    "print(SUBTRACT)\n",
    "\n",
    "DIVISION=A/B\n",
    "print(DIVISION)\n",
    "\n",
    "MULTIPLICATION=A*B\n",
    "print(MULTIPLICATION)"
   ]
  },
  {
   "cell_type": "code",
   "execution_count": 18,
   "id": "1bf471b4-b3ab-435d-ab7f-2e37945798af",
   "metadata": {},
   "outputs": [
    {
     "name": "stdout",
     "output_type": "stream",
     "text": [
      "3.0\n",
      "3.0\n",
      "15\n",
      "5\n",
      "1\n"
     ]
    }
   ],
   "source": [
    "# mean,median,sum,mininum number, maximum number\n",
    "\n",
    "A_mean = np.mean(A)\n",
    "print(A_mean)\n",
    "\n",
    "A_med = np.median(A)\n",
    "print(A_med)\n",
    "\n",
    "A_sum= np.sum(A)\n",
    "print(A_sum)\n",
    "\n",
    "A_max = A.max()\n",
    "print(A_max)\n",
    "\n",
    "A_min= A.min()\n",
    "print(A_min)"
   ]
  },
  {
   "cell_type": "code",
   "execution_count": 10,
   "id": "3c26ac2c-cd8a-4318-bcfd-b51503576b13",
   "metadata": {},
   "outputs": [
    {
     "data": {
      "text/plain": [
       "array([[ 1,  2,  3,  4,  5],\n",
       "       [10, 12, 14, 16, 18]])"
      ]
     },
     "execution_count": 10,
     "metadata": {},
     "output_type": "execute_result"
    }
   ],
   "source": [
    "A = np.array([[1, 2, 3, 4, 5],[10,12,14,16,18]])\n",
    "A"
   ]
  },
  {
   "cell_type": "code",
   "execution_count": 14,
   "id": "0ce8c0e6-50a3-40fd-b6cd-41ba61218867",
   "metadata": {},
   "outputs": [
    {
     "name": "stdout",
     "output_type": "stream",
     "text": [
      "[1 2 3 4 5]\n",
      "3\n",
      "[ 5 18]\n",
      "[[10 12 14 16 18]]\n"
     ]
    }
   ],
   "source": [
    "#ARRAY INDEXING\n",
    "\n",
    "# Accessing rows\n",
    "print(A[0])  \n",
    "\n",
    "# Access element at row 0, column 3\n",
    "print(A [0, 2])  \n",
    "\n",
    "## Accessing; columns\n",
    "print(A[:,4]) \n",
    "\n",
    "# Access elements from second row onwards, and only the first two columns\n",
    "print(A[ 1:]) "
   ]
  },
  {
   "cell_type": "code",
   "execution_count": 16,
   "id": "6ca73465-f799-4f34-b5ca-97d6b60c2e49",
   "metadata": {},
   "outputs": [
    {
     "data": {
      "text/plain": [
       "array([[ 1,  2],\n",
       "       [ 3,  4],\n",
       "       [ 5, 10],\n",
       "       [12, 14],\n",
       "       [16, 18]])"
      ]
     },
     "execution_count": 16,
     "metadata": {},
     "output_type": "execute_result"
    }
   ],
   "source": [
    "A = A.reshape(5,2)\n",
    "A"
   ]
  },
  {
   "cell_type": "code",
   "execution_count": 17,
   "id": "cbbfac62-bcd7-4e99-8dd9-4b0b8ed21fc4",
   "metadata": {},
   "outputs": [
    {
     "name": "stdout",
     "output_type": "stream",
     "text": [
      "Merged Rows:\n",
      "[[ 2  4  6]\n",
      " [ 8 10 12]\n",
      " [ 1  3  5]\n",
      " [ 7  9 11]]\n"
     ]
    }
   ],
   "source": [
    "import numpy as np\n",
    "\n",
    "# Example arrays\n",
    "arr1 = np.array([[2, 4, 6],\n",
    "                 [8, 10, 12]])\n",
    "arr2 = np.array([[1, 3, 5],\n",
    "                 [7, 9, 11]])\n",
    "\n",
    "# Merge arrays into rows\n",
    "merged_rows = np.vstack((arr1, arr2))\n",
    "print(\"Merged Rows:\")\n",
    "print(merged_rows)\n",
    "\n",
    "merged_rows = A"
   ]
  },
  {
   "cell_type": "code",
   "execution_count": null,
   "id": "83e99656-3504-4e55-824f-9aac35764acf",
   "metadata": {},
   "outputs": [],
   "source": []
  },
  {
   "cell_type": "markdown",
   "id": "b7001c79-3487-4bee-a20d-fa38bfde4abb",
   "metadata": {},
   "source": [
    "Universal functions (ufuncs) in NumPy are functions that operate element-wise on arrays. They provide fast, vectorized operations on arrays, allowing you to perform complex mathematical operations efficiently without the need for explicit looping in Python code. Ufuncs can operate on arrays of any size and shape, and they are implemented in compiled C code, making them much faster than equivalent operations performed in pure Python."
   ]
  },
  {
   "cell_type": "code",
   "execution_count": 29,
   "id": "9ce0e307-0ee2-4552-bfc7-b49ed7faf744",
   "metadata": {},
   "outputs": [
    {
     "name": "stdout",
     "output_type": "stream",
     "text": [
      "[0. 0. 0. 0. 0.]\n",
      "[[0. 0. 0.]\n",
      " [0. 0. 0.]]\n"
     ]
    }
   ],
   "source": [
    "import numpy as np\n",
    "\n",
    "# Create zeros_A array filled with zeros of length 5\n",
    "zeros_A = np.zeros(5)\n",
    "print(zeros_A)\n",
    "\n",
    "# Create zeros_B array filled with zeros of shape (2, 3)\n",
    "zeros_B = np.zeros((2, 3))\n",
    "print(zeros_B)\n"
   ]
  },
  {
   "cell_type": "code",
   "execution_count": 1,
   "id": "aa1af5af-0e22-4073-8f03-b0dd994036a8",
   "metadata": {},
   "outputs": [
    {
     "name": "stdout",
     "output_type": "stream",
     "text": [
      "[[1 2 3]\n",
      " [4 5 6]]\n"
     ]
    }
   ],
   "source": [
    "import numpy as np\n",
    "\n",
    "a=np.array([[1,2,3],[4,5,6]])\n",
    "print(a)"
   ]
  },
  {
   "cell_type": "code",
   "execution_count": 2,
   "id": "22db091e-09ed-417b-b4ef-c76fd426e20e",
   "metadata": {},
   "outputs": [
    {
     "data": {
      "text/plain": [
       "array([[1, 2, 3],\n",
       "       [4, 5, 6]])"
      ]
     },
     "execution_count": 2,
     "metadata": {},
     "output_type": "execute_result"
    }
   ],
   "source": [
    "a"
   ]
  },
  {
   "cell_type": "code",
   "execution_count": 3,
   "id": "a2a156f0-142d-47fb-85a4-f1a86f98a467",
   "metadata": {},
   "outputs": [
    {
     "name": "stdout",
     "output_type": "stream",
     "text": [
      "[[1 2 3]\n",
      " [4 5 6]]\n"
     ]
    }
   ],
   "source": [
    "import numpy as np\n",
    "# Example arrays\n",
    "arr1 = np.array ([[1, 2, 3],\n",
    "                 [4, 5, 6]])\n",
    "\n",
    "print (arr1)\n"
   ]
  },
  {
   "cell_type": "code",
   "execution_count": 4,
   "id": "67aa2c51-53ae-4d1f-a6a7-a60c25f997ea",
   "metadata": {},
   "outputs": [
    {
     "name": "stdout",
     "output_type": "stream",
     "text": [
      "[[ 1  2  3]\n",
      " [ 4 20  6]]\n"
     ]
    }
   ],
   "source": [
    "\n",
    "arr1 = np.array([[1, 2, 3],\n",
    "                 [4, 5, 6]])\n",
    "\n",
    "\n",
    "new_number = 20\n",
    "arr1[1, 1] = new_number  \n",
    "\n",
    "print(arr1)"
   ]
  },
  {
   "cell_type": "code",
   "execution_count": null,
   "id": "0c7090e0-0035-481c-a5c7-a964249d9030",
   "metadata": {},
   "outputs": [],
   "source": []
  }
 ],
 "metadata": {
  "kernelspec": {
   "display_name": "Python 3 (ipykernel)",
   "language": "python",
   "name": "python3"
  },
  "language_info": {
   "codemirror_mode": {
    "name": "ipython",
    "version": 3
   },
   "file_extension": ".py",
   "mimetype": "text/x-python",
   "name": "python",
   "nbconvert_exporter": "python",
   "pygments_lexer": "ipython3",
   "version": "3.9.13"
  }
 },
 "nbformat": 4,
 "nbformat_minor": 5
}

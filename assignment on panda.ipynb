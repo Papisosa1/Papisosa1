{
 "cells": [
  {
   "cell_type": "markdown",
   "id": "13f452e1-cc2d-4637-ba69-65061e30fed9",
   "metadata": {},
   "source": [
    "1. Pandas is an open-source Python library that provides high-performance, easy-to-use data structures and data analysis tools. Its primary purpose is to facilitate data manipulation, cleaning, exploration, and analysis in Python.\n",
    "\n",
    "Pandas is particularly well-suited for:\n",
    "\n",
    "Data manipulation,\n",
    "Data cleaning,\n",
    "Data exploration,\n",
    "Data analysis."
   ]
  },
  {
   "cell_type": "code",
   "execution_count": 2,
   "id": "d78c334a-1024-4fda-b402-4ca16022ae94",
   "metadata": {},
   "outputs": [],
   "source": [
    "import pandas as pd"
   ]
  },
  {
   "cell_type": "markdown",
   "id": "633440d1-8ede-4058-b7ee-952d45fab176",
   "metadata": {},
   "source": [
    "3. The two primary data structures in Pandas are:\n",
    "\n",
    "Series: A Series is a one-dimensional labeled array capable of holding any data type (e.g., integers, floats, strings, etc.). It is similar to a NumPy array but is associated with an index. The index provides a label for each element in the Series, allowing for fast and efficient data access and alignment.\n",
    "\n",
    "DataFrame: A DataFrame is a two-dimensional labeled data structure with columns of potentially different types. It is akin to a spreadsheet or SQL table, where each column represents a different variable, and each row represents a different observation. DataFrames are particularly useful for handling tabular data and are the primary data structure used in Pandas for data manipulation and analysis.\n",
    "\n",
    "The main differences between Series and DataFrame are:\n",
    "\n",
    "Dimensionality: Series is one-dimensional, whereas DataFrame is two-dimensional. A Series represents a single column of data, while a DataFrame represents multiple columns of data organized into rows and columns.\n",
    "\n",
    "Indexing: Each element in a Series has a labeled index, providing a unique identifier for each value. In contrast, a DataFrame has both row and column indexes. The row index labels the rows, while the column names label the columns. This allows for efficient indexing and alignment of data in both Series and DataFrame.\n",
    "\n",
    "Flexibility: While Series are more limited in terms of structure (one-dimensional), DataFrames offer more flexibility due to their two-dimensional nature. DataFrames can represent more complex datasets with multiple variables and observations, making them suitable for a wider range of data analysis tasks."
   ]
  },
  {
   "cell_type": "code",
   "execution_count": 3,
   "id": "ce4150d4-c22a-49ed-9e48-d1e1eb262ee4",
   "metadata": {},
   "outputs": [
    {
     "name": "stdout",
     "output_type": "stream",
     "text": [
      "    Name  Age      City\n",
      "0   John   25  New York\n",
      "1   Anna   30     Paris\n",
      "2  Peter   35    London\n",
      "3  Linda   40    Sydney\n"
     ]
    }
   ],
   "source": [
    "import pandas as pd\n",
    "\n",
    "# Create a dictionary\n",
    "data = {'Name': ['John', 'Anna', 'Peter', 'Linda'],\n",
    "        'Age': [25, 30, 35, 40],\n",
    "        'City': ['New York', 'Paris', 'London', 'Sydney']}\n",
    "\n",
    "# Create a DataFrame from the dictionary\n",
    "df = pd.DataFrame(data)\n",
    "\n",
    "# Display the DataFrame\n",
    "print(df)"
   ]
  },
  {
   "cell_type": "code",
   "execution_count": 4,
   "id": "fe6b6831-851b-401a-a57b-0fe1cd465b02",
   "metadata": {},
   "outputs": [
    {
     "data": {
      "text/html": [
       "<div>\n",
       "<style scoped>\n",
       "    .dataframe tbody tr th:only-of-type {\n",
       "        vertical-align: middle;\n",
       "    }\n",
       "\n",
       "    .dataframe tbody tr th {\n",
       "        vertical-align: top;\n",
       "    }\n",
       "\n",
       "    .dataframe thead th {\n",
       "        text-align: right;\n",
       "    }\n",
       "</style>\n",
       "<table border=\"1\" class=\"dataframe\">\n",
       "  <thead>\n",
       "    <tr style=\"text-align: right;\">\n",
       "      <th></th>\n",
       "      <th>Name</th>\n",
       "      <th>Age</th>\n",
       "      <th>City</th>\n",
       "    </tr>\n",
       "  </thead>\n",
       "  <tbody>\n",
       "    <tr>\n",
       "      <th>0</th>\n",
       "      <td>John</td>\n",
       "      <td>25</td>\n",
       "      <td>New York</td>\n",
       "    </tr>\n",
       "    <tr>\n",
       "      <th>1</th>\n",
       "      <td>Anna</td>\n",
       "      <td>30</td>\n",
       "      <td>Paris</td>\n",
       "    </tr>\n",
       "    <tr>\n",
       "      <th>2</th>\n",
       "      <td>Peter</td>\n",
       "      <td>35</td>\n",
       "      <td>London</td>\n",
       "    </tr>\n",
       "    <tr>\n",
       "      <th>3</th>\n",
       "      <td>Linda</td>\n",
       "      <td>40</td>\n",
       "      <td>Sydney</td>\n",
       "    </tr>\n",
       "  </tbody>\n",
       "</table>\n",
       "</div>"
      ],
      "text/plain": [
       "    Name  Age      City\n",
       "0   John   25  New York\n",
       "1   Anna   30     Paris\n",
       "2  Peter   35    London\n",
       "3  Linda   40    Sydney"
      ]
     },
     "execution_count": 4,
     "metadata": {},
     "output_type": "execute_result"
    }
   ],
   "source": [
    "df"
   ]
  },
  {
   "cell_type": "code",
   "execution_count": 26,
   "id": "314bc57c-134a-49d2-9b5d-58a9d4915b7f",
   "metadata": {},
   "outputs": [
    {
     "name": "stdout",
     "output_type": "stream",
     "text": [
      "   Name  Age      City\n",
      "0  John   25  New York\n",
      "1  Anna   30     Paris\n"
     ]
    }
   ],
   "source": [
    "import pandas as pd\n",
    "\n",
    "print(df.head(2))\n"
   ]
  },
  {
   "cell_type": "code",
   "execution_count": 28,
   "id": "1d75138a-ad43-46b7-9a51-1bbe37d3b230",
   "metadata": {},
   "outputs": [
    {
     "name": "stdout",
     "output_type": "stream",
     "text": [
      "0    New York\n",
      "1       Paris\n",
      "2      London\n",
      "3      Sydney\n",
      "Name: City, dtype: object\n"
     ]
    }
   ],
   "source": [
    "import pandas as pd\n",
    "\n",
    "print(df['City'])\n"
   ]
  },
  {
   "cell_type": "markdown",
   "id": "c7f07ca9-2159-4480-8e68-526fdd47399d",
   "metadata": {},
   "source": [
    "7. Use loc[] when you want to select data based on labels (row and column names).\n",
    "WHILE Use iloc[] when you want to select data based on integer positions."
   ]
  },
  {
   "cell_type": "code",
   "execution_count": 3,
   "id": "92edd381-6855-4d6c-a43a-3d69e25153a3",
   "metadata": {},
   "outputs": [
    {
     "name": "stdout",
     "output_type": "stream",
     "text": [
      "    Name  Age    City\n",
      "2  Peter   35  London\n",
      "3  Linda   40  Sydney\n"
     ]
    }
   ],
   "source": [
    "import pandas as pd\n",
    "\n",
    "# Assuming df is your DataFrame\n",
    "data = {'Name': ['John', 'Anna', 'Peter', 'Linda'],\n",
    "        'Age': [25, 30, 35, 40],\n",
    "        'City': ['New York', 'Paris', 'London', 'Sydney']}\n",
    "\n",
    "df = pd.DataFrame(data)\n",
    "\n",
    "# Example condition: filter rows where the 'Age' column is greater than 30\n",
    "condition = df['Age'] > 30\n",
    "\n",
    "# Apply the condition to filter rows\n",
    "filtered_df = df[condition]\n",
    "\n",
    "# Display the filtered DataFrame\n",
    "print(filtered_df)\n"
   ]
  },
  {
   "cell_type": "code",
   "execution_count": null,
   "id": "7f145dc3-5d80-41f4-8032-cf26fedbc9eb",
   "metadata": {},
   "outputs": [],
   "source": []
  }
 ],
 "metadata": {
  "kernelspec": {
   "display_name": "Python 3 (ipykernel)",
   "language": "python",
   "name": "python3"
  },
  "language_info": {
   "codemirror_mode": {
    "name": "ipython",
    "version": 3
   },
   "file_extension": ".py",
   "mimetype": "text/x-python",
   "name": "python",
   "nbconvert_exporter": "python",
   "pygments_lexer": "ipython3",
   "version": "3.9.13"
  }
 },
 "nbformat": 4,
 "nbformat_minor": 5
}
